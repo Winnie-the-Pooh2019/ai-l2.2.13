{
 "cells": [
  {
   "metadata": {},
   "cell_type": "markdown",
   "source": "1 задание",
   "id": "3bc0ed2d4fa20f81"
  },
  {
   "cell_type": "code",
   "id": "initial_id",
   "metadata": {
    "collapsed": true,
    "ExecuteTime": {
     "end_time": "2025-04-19T06:44:37.811044Z",
     "start_time": "2025-04-19T06:44:07.328835Z"
    }
   },
   "source": [
    "a = str(input(''))\n",
    "b = str(input(''))\n",
    "c = str(input(''))\n",
    "\n",
    "print(f'Билет на \"{a}\" в \"{b}\" на {c} забронирован.')"
   ],
   "outputs": [
    {
     "name": "stdout",
     "output_type": "stream",
     "text": [
      "Билет на \"piska\n",
      "vostok\n",
      "12:00\" в \"mhgmh\" на 86959 забронирован.\n"
     ]
    }
   ],
   "execution_count": 1
  },
  {
   "metadata": {},
   "cell_type": "markdown",
   "source": "2 задание",
   "id": "1d462a615e55e3c5"
  },
  {
   "metadata": {},
   "cell_type": "code",
   "outputs": [],
   "execution_count": null,
   "source": [
    "first_stroke = str(input(''))\n",
    "second_stroke = str(input(''))\n",
    "\n",
    "if first_stroke == second_stroke == 'да' or first_stroke == second_stroke == 'нет':\n",
    "    print(f'ВЕРНО')\n",
    "else:\n",
    "    print(f'НЕВЕРНО')"
   ],
   "id": "73e2e4f92eeaf0dd"
  },
  {
   "metadata": {},
   "cell_type": "markdown",
   "source": "3 задание",
   "id": "2887baedd5dfb97a"
  },
  {
   "metadata": {},
   "cell_type": "code",
   "outputs": [],
   "execution_count": null,
   "source": [
    "login = str(input(''))\n",
    "if \"@\" in login:\n",
    "    print(\"Некорректный логин\")\n",
    "else:\n",
    "    print(\"Всё ок\")\n",
    "\n",
    "mail = str(input(''))\n",
    "if \"@\" in mail:\n",
    "    print(\"Всё ок\")\n",
    "else:\n",
    "    print(\"Некорректный резервный адрес\")\n"
   ],
   "id": "402004dc9511feb2"
  },
  {
   "metadata": {},
   "cell_type": "markdown",
   "source": "3* задание",
   "id": "8a93279cee159f61"
  },
  {
   "metadata": {},
   "cell_type": "code",
   "outputs": [],
   "execution_count": null,
   "source": [
    "login = str(input(''))\n",
    "if \"@\" not in login:\n",
    "    print(\"Всё ок\")\n",
    "else:\n",
    "    print(\"Некорректный логин\")\n",
    "\n",
    "mail = str(input(''))\n",
    "if \"@\" in mail:\n",
    "    print(\"Всё ок\")\n",
    "else:\n",
    "    print(\"Некорректный резервный адрес\")\n"
   ],
   "id": "3ca73dcdbfbd6730"
  },
  {
   "metadata": {},
   "cell_type": "markdown",
   "source": "4 задание",
   "id": "87dd1de45b966660"
  },
  {
   "metadata": {
    "ExecuteTime": {
     "end_time": "2025-04-19T06:50:09.312014Z",
     "start_time": "2025-04-19T06:49:57.111546Z"
    }
   },
   "cell_type": "code",
   "source": "print(input())",
   "id": "c75d8197f707f711",
   "outputs": [
    {
     "name": "stdout",
     "output_type": "stream",
     "text": [
      "vanya lubimaya piska\n"
     ]
    }
   ],
   "execution_count": 5
  },
  {
   "metadata": {},
   "cell_type": "markdown",
   "source": "5 задание",
   "id": "479a6703fe5b01a4"
  },
  {
   "metadata": {
    "ExecuteTime": {
     "end_time": "2025-04-19T06:55:47.089083Z",
     "start_time": "2025-04-19T06:55:43.833066Z"
    }
   },
   "cell_type": "code",
   "source": [
    "a = (input())\n",
    "\n",
    "if a == '':\n",
    "    print('ДА')\n",
    "else:\n",
    "    print('НЕТ')"
   ],
   "id": "14c44e724799f2f1",
   "outputs": [
    {
     "name": "stdout",
     "output_type": "stream",
     "text": [
      "НЕТ\n"
     ]
    }
   ],
   "execution_count": 8
  },
  {
   "metadata": {},
   "cell_type": "markdown",
   "source": "6 задание через цифры без цикла",
   "id": "1e82af662e798af7"
  },
  {
   "metadata": {
    "ExecuteTime": {
     "end_time": "2025-04-19T08:19:41.540329Z",
     "start_time": "2025-04-19T08:19:36.596254Z"
    }
   },
   "cell_type": "code",
   "source": [
    "a = int(input())\n",
    "b = a % 10\n",
    "c = (a % 100) // 10\n",
    "d = a // 100\n",
    "\n",
    "maks = max(b, c, d)\n",
    "minim = min(b, c, d)\n",
    "third = (b + c + d) - (maks + minim)\n",
    "half_sum = (maks + minim) / 2\n",
    "\n",
    "if half_sum == third:\n",
    "    print(f'Вы ввели красивое число: {a}')\n",
    "else:\n",
    "    print(f'Вы ввели обычное число: {a}')"
   ],
   "id": "739aab128297e",
   "outputs": [
    {
     "name": "stdout",
     "output_type": "stream",
     "text": [
      "Вы ввели красивое число: 153\n"
     ]
    }
   ],
   "execution_count": 41
  },
  {
   "metadata": {},
   "cell_type": "markdown",
   "source": [
    "напиши алгоритм обмена значениями 2х переменных\n",
    "2, 3 -> 3, 2"
   ],
   "id": "388f11ecb893512c"
  },
  {
   "metadata": {
    "ExecuteTime": {
     "end_time": "2025-04-19T07:35:18.302391Z",
     "start_time": "2025-04-19T07:35:18.299205Z"
    }
   },
   "cell_type": "code",
   "source": [
    "a = 2\n",
    "b = 3\n",
    "c = b\n",
    "b = a\n",
    "a = c\n",
    "print(a, b)"
   ],
   "id": "bc75252a7c1fdaab",
   "outputs": [
    {
     "name": "stdout",
     "output_type": "stream",
     "text": [
      "3 2\n"
     ]
    }
   ],
   "execution_count": 21
  },
  {
   "metadata": {
    "ExecuteTime": {
     "end_time": "2025-04-19T07:46:17.024001Z",
     "start_time": "2025-04-19T07:46:17.020986Z"
    }
   },
   "cell_type": "code",
   "source": [
    "a = 7\n",
    "b = 8\n",
    "a = b - a\n",
    "b = b - a\n",
    "a = a + b\n",
    "print(a, b)"
   ],
   "id": "cd322af06d5d158b",
   "outputs": [
    {
     "name": "stdout",
     "output_type": "stream",
     "text": [
      "8 7\n"
     ]
    }
   ],
   "execution_count": 37
  },
  {
   "metadata": {},
   "cell_type": "markdown",
   "source": "6 задание с цифрами через цикл (подсказка: обращай внимание на последнюю цифру числа)",
   "id": "7b8e3cea514fa3ba"
  },
  {
   "metadata": {},
   "cell_type": "code",
   "outputs": [],
   "execution_count": null,
   "source": [
    "a = int(input())\n",
    "b = a % 10\n",
    "c = (a % 100) // 10\n",
    "d = a // 100"
   ],
   "id": "8622229e365a4de6"
  },
  {
   "metadata": {},
   "cell_type": "markdown",
   "source": "6 задание через строки",
   "id": "9a39cfe0747bcd2f"
  },
  {
   "metadata": {},
   "cell_type": "code",
   "outputs": [],
   "execution_count": null,
   "source": "",
   "id": "3aa5c9e596184294"
  },
  {
   "metadata": {},
   "cell_type": "markdown",
   "source": "7 задание (не подходит, если 2 равных максимума или 2 равных минимума/ если есть 0)",
   "id": "7071a603a7798aac"
  },
  {
   "metadata": {
    "ExecuteTime": {
     "end_time": "2025-04-19T13:00:33.525470Z",
     "start_time": "2025-04-19T13:00:31.060418Z"
    }
   },
   "cell_type": "code",
   "source": [
    "a = int(input())\n",
    "b = a % 10\n",
    "c = (a % 100) // 10\n",
    "d = (a % 1000) // 100\n",
    "e = a // 1000\n",
    "\n",
    "maks_1 = max(b, c, d, e)\n",
    "min_1 = min(b, c, d, e)\n",
    "\n",
    "third = ((b + c + d + e) - (maks_1 + min_1)) // 2\n",
    "fourth = (b + c + d + e) - (maks_1 + min_1 + third)\n",
    "min_2 = min(third, fourth)\n",
    "maks_2 = max(third, fourth)\n",
    "\n",
    "print(maks_1, min_1, third, fourth)\n",
    "print(min_1 * 1000 + min_2 * 100 + maks_2 * 10 + maks_1)"
   ],
   "id": "b9c845536d3a4015",
   "outputs": [
    {
     "name": "stdout",
     "output_type": "stream",
     "text": [
      "6 1 4 4\n",
      "1446\n"
     ]
    }
   ],
   "execution_count": 127
  },
  {
   "metadata": {
    "ExecuteTime": {
     "end_time": "2025-04-19T13:09:32.970563Z",
     "start_time": "2025-04-19T13:09:29.191136Z"
    }
   },
   "cell_type": "code",
   "source": [
    "a = int(input())\n",
    "n1 = a // 1000\n",
    "n2 = (a % 1000) // 100\n",
    "n3 = (a % 100) // 10\n",
    "n4 = a % 10\n",
    "\n",
    "min1 = min(n1, n2, n3, n4)\n",
    "\n",
    "if min1 == n1:\n",
    "    min2 = min(n2, n3, n4)\n",
    "elif min1 == n2:\n",
    "    min2 = min(n1, n3, n4)\n",
    "elif min1 == n3:\n",
    "    min2 = min(n1, n2, n4)\n",
    "else:\n",
    "    min2 = min(n1, n2, n3)\n",
    "\n",
    "if min1 == n1 and min2 == n2:\n",
    "    min3 = min(n3, n4)\n",
    "elif min1 == n1 and min2 == n3:\n",
    "    min3 = min(n2, n4)\n",
    "elif min1 == n1 and min2 == n4:\n",
    "    min3 = min(n2, n3)\n",
    "elif min1 == n2 and min2 == n3:\n",
    "    min3 = min(n1, n4)\n",
    "elif min1 == n2 and min2 == n4:\n",
    "    min3 = min(n1, n3)\n",
    "else:\n",
    "    min3 = min(n1, n2)\n",
    "\n",
    "maks = max(n1, n2, n3, n4)\n",
    "\n",
    "if min1 == 0 and min2 == 0 and min3 == 0:\n",
    "    print(maks * 1000 + min1 + min2 + min3)\n",
    "elif min1 == 0 and min2 == 0:\n",
    "    print(min3 * 1000 + min1 + min2 + maks)\n",
    "elif min1 == 0:\n",
    "    print(min2 * 1000 + min1 + min3 * 10 + maks)\n",
    "else:\n",
    "    print(min1 * 1000 + min2 * 100 + min3 * 10 + maks)"
   ],
   "id": "bd1e2785222a33ba",
   "outputs": [
    {
     "name": "stdout",
     "output_type": "stream",
     "text": [
      "8009\n"
     ]
    }
   ],
   "execution_count": 131
  },
  {
   "metadata": {},
   "cell_type": "markdown",
   "source": "8 задание",
   "id": "e6d296e00cba8822"
  },
  {
   "metadata": {
    "ExecuteTime": {
     "end_time": "2025-04-20T05:58:31.946626Z",
     "start_time": "2025-04-20T05:58:14.722289Z"
    }
   },
   "cell_type": "code",
   "source": [
    "rost = input()\n",
    "count = 0\n",
    "minim = 200\n",
    "maxim = 0\n",
    "while rost != '!':\n",
    "    num_rost = int(rost)\n",
    "    if 150 <= num_rost <= 190:\n",
    "        count += 1\n",
    "        if minim > num_rost:\n",
    "            minim = num_rost\n",
    "        if maxim < num_rost:\n",
    "            maxim = num_rost\n",
    "\n",
    "    rost = input()\n",
    "\n",
    "print(count)\n",
    "print(minim, maxim)"
   ],
   "id": "195a4e4eb24458a5",
   "outputs": [
    {
     "name": "stdout",
     "output_type": "stream",
     "text": [
      "3\n",
      "155 168\n"
     ]
    }
   ],
   "execution_count": 6
  },
  {
   "metadata": {},
   "cell_type": "markdown",
   "source": "подзад: на вход подаются какие-то значения (любого типа), надо выводить их на экран, пока пользователь не введет \"!\"",
   "id": "2bb555eae22c9c68"
  },
  {
   "metadata": {
    "ExecuteTime": {
     "end_time": "2025-04-19T14:01:05.432993Z",
     "start_time": "2025-04-19T14:01:01.325312Z"
    }
   },
   "cell_type": "code",
   "source": [
    "numbers = input()\n",
    "while numbers != '!':\n",
    "    print(numbers)\n",
    "    numbers = input()"
   ],
   "id": "a2482cbc64676c96",
   "outputs": [
    {
     "name": "stdout",
     "output_type": "stream",
     "text": [
      "5\n",
      "5\n"
     ]
    }
   ],
   "execution_count": 18
  },
  {
   "metadata": {},
   "cell_type": "markdown",
   "source": " подподзад: ввести с клавы число n. посчитать сумму чисел от 1 до n",
   "id": "8705e2b362e18447"
  },
  {
   "metadata": {
    "ExecuteTime": {
     "end_time": "2025-04-19T13:54:18.617796Z",
     "start_time": "2025-04-19T13:54:16.119764Z"
    }
   },
   "cell_type": "code",
   "source": [
    "n = int(input())\n",
    "s = 0\n",
    "while 1 <= n:\n",
    "    s += n\n",
    "    n -= 1\n",
    "print(s)"
   ],
   "id": "b65be99166394d77",
   "outputs": [
    {
     "name": "stdout",
     "output_type": "stream",
     "text": [
      "10\n"
     ]
    }
   ],
   "execution_count": 10
  },
  {
   "metadata": {},
   "cell_type": "markdown",
   "source": "еще один подзад: вводится n натуральных чисел. найти макс из них. писькин код",
   "id": "39ca7f07f2483181"
  },
  {
   "metadata": {},
   "cell_type": "code",
   "outputs": [],
   "execution_count": null,
   "source": [
    "numbers = int(input())\n",
    "maxx = 0\n",
    "while 0 < numbers:\n",
    "    num = int(input())\n",
    "\n",
    "    if num > maxx:\n",
    "        maxx = num\n",
    "\n",
    "    numbers -= 1\n",
    "\n",
    "print(maxx)"
   ],
   "id": "761d5ae30a4c6f36"
  },
  {
   "metadata": {},
   "cell_type": "markdown",
   "source": "мой код",
   "id": "275b4fd560da5268"
  },
  {
   "metadata": {
    "ExecuteTime": {
     "end_time": "2025-04-20T05:38:35.440476Z",
     "start_time": "2025-04-20T05:38:18.043236Z"
    }
   },
   "cell_type": "code",
   "source": [
    "numbers = int(input())\n",
    "maks = 0\n",
    "while numbers > 0:\n",
    "    num = int(input())\n",
    "    if num > maks:\n",
    "        maks = num\n",
    "    numbers -= 1\n",
    "print(maks)"
   ],
   "id": "da9f5f3acc6ba5bb",
   "outputs": [
    {
     "name": "stdout",
     "output_type": "stream",
     "text": [
      "467468\n"
     ]
    }
   ],
   "execution_count": 1
  },
  {
   "metadata": {
    "ExecuteTime": {
     "end_time": "2025-04-20T06:14:56.548871Z",
     "start_time": "2025-04-20T06:14:28.789184Z"
    }
   },
   "cell_type": "code",
   "source": [
    "numbers = int(input())\n",
    "maks = 0\n",
    "for i in range(numbers):\n",
    "    num = int(input())\n",
    "    if num > maks:\n",
    "        maks = num\n",
    "print(maks)"
   ],
   "id": "3f7fcd3d35c2eec6",
   "outputs": [
    {
     "name": "stdout",
     "output_type": "stream",
     "text": [
      "100\n"
     ]
    }
   ],
   "execution_count": 7
  },
  {
   "metadata": {},
   "cell_type": "markdown",
   "source": "9 задание",
   "id": "4652a34abcf8aca1"
  },
  {
   "metadata": {},
   "cell_type": "markdown",
   "source": "дан список из n эл-тов. вывести на экран список из квадратов этих эл-тов\n",
   "id": "bcc7012409b71dce"
  },
  {
   "metadata": {
    "ExecuteTime": {
     "end_time": "2025-04-20T07:12:31.316285Z",
     "start_time": "2025-04-20T07:12:31.191151Z"
    }
   },
   "cell_type": "code",
   "source": [
    "import numpy as np\n",
    "\n",
    "spisok = [1, 2, 3, 4, 5, 6]\n",
    "spisok_square = np.square(spisok)\n",
    "print(spisok, spisok_square)\n"
   ],
   "id": "14c8b37e2c6c6dd2",
   "outputs": [
    {
     "name": "stdout",
     "output_type": "stream",
     "text": [
      "[1, 2, 3, 4, 5, 6] [ 1  4  9 16 25 36]\n"
     ]
    }
   ],
   "execution_count": 8
  },
  {
   "metadata": {
    "ExecuteTime": {
     "end_time": "2025-04-20T07:14:36.957270Z",
     "start_time": "2025-04-20T07:14:36.953766Z"
    }
   },
   "cell_type": "code",
   "source": [
    "spisok = [1, 2, 3, 4, 5, 6]\n",
    "\n",
    "for i in range(len(spisok)):\n",
    "    spisok[i] = spisok[i]**2\n",
    "print(spisok)"
   ],
   "id": "ce0d12e9bcda6b0a",
   "outputs": [
    {
     "name": "stdout",
     "output_type": "stream",
     "text": [
      "[1, 4, 9, 16, 25, 36]\n"
     ]
    }
   ],
   "execution_count": 9
  },
  {
   "metadata": {},
   "cell_type": "markdown",
   "source": [
    "писькино задание:\n",
    "дан список из n чисел. найти произведение элементов, расположенных между максимальным по модулю и минимальным по модулю элементами"
   ],
   "id": "7e36b009aec08f19"
  },
  {
   "metadata": {},
   "cell_type": "code",
   "outputs": [],
   "execution_count": null,
   "source": [
    "spisok = [1, 2, 3, 4, 5, 6, 7, 8, 9, -8, -7, -6, -5, -4, -3, -2, -1]\n",
    "\n",
    "for i in range (len(spisok)):\n"
   ],
   "id": "2af2406f65ed07d"
  }
 ],
 "metadata": {
  "kernelspec": {
   "display_name": "Python 3",
   "language": "python",
   "name": "python3"
  },
  "language_info": {
   "codemirror_mode": {
    "name": "ipython",
    "version": 2
   },
   "file_extension": ".py",
   "mimetype": "text/x-python",
   "name": "python",
   "nbconvert_exporter": "python",
   "pygments_lexer": "ipython2",
   "version": "2.7.6"
  }
 },
 "nbformat": 4,
 "nbformat_minor": 5
}
